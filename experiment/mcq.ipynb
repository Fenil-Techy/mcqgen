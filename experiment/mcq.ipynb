{
 "cells": [
  {
   "cell_type": "code",
   "execution_count": 2,
   "id": "498302fc",
   "metadata": {},
   "outputs": [],
   "source": [
    "import os\n",
    "import json\n",
    "import pandas as pd\n",
    "import traceback"
   ]
  },
  {
   "cell_type": "code",
   "execution_count": 3,
   "id": "ac59dec1",
   "metadata": {},
   "outputs": [],
   "source": [
    "from langchain_ollama import ChatOllama"
   ]
  },
  {
   "cell_type": "code",
   "execution_count": 4,
   "id": "f46e8413",
   "metadata": {},
   "outputs": [],
   "source": [
    "from langchain.prompts import ChatPromptTemplate, HumanMessagePromptTemplate\n",
    "import PyPDF2"
   ]
  },
  {
   "cell_type": "code",
   "execution_count": 6,
   "id": "dfbe3cd0",
   "metadata": {},
   "outputs": [],
   "source": [
    "llm = ChatOllama(model=\"llama3.1:8b\")"
   ]
  },
  {
   "cell_type": "code",
   "execution_count": 41,
   "id": "f087bc6b",
   "metadata": {},
   "outputs": [],
   "source": [
    "TEMPLATE=\"\"\"\n",
    "Text:{text}\n",
    "You are an expert MCQ maker. Given the above text, it is your job to \\\n",
    "create a quiz  of {number} multiple choice questions for {subject} students in {tone} tone. \n",
    "Make sure the questions are not repeated and check all the questions to be conforming the text as well.\n",
    "Make sure to format your response like  RESPONSE_JSON below  and use it as a guide and Return ONLY a valid JSON object in the following format. Do NOT include any explanations or other text. Just the JSON. \\\n",
    "Ensure to make {number} MCQs\n",
    "### RESPONSE_JSON\n",
    "{response_json}\n",
    "\n",
    "\"\"\""
   ]
  },
  {
   "cell_type": "code",
   "execution_count": 42,
   "id": "fe9c8c5f",
   "metadata": {},
   "outputs": [],
   "source": [
    "RESPONSE_JSON = {\n",
    "    \"1\": {\n",
    "        \"mcq\": \"multiple choice question\",\n",
    "        \"options\": {\n",
    "            \"a\": \"choice here\",\n",
    "            \"b\": \"choice here\",\n",
    "            \"c\": \"choice here\",\n",
    "            \"d\": \"choice here\",\n",
    "        },\n",
    "        \"correct\": \"correct answer\",\n",
    "    },\n",
    "    \"2\": {\n",
    "        \"mcq\": \"multiple choice question\",\n",
    "        \"options\": {\n",
    "            \"a\": \"choice here\",\n",
    "            \"b\": \"choice here\",\n",
    "            \"c\": \"choice here\",\n",
    "            \"d\": \"choice here\",\n",
    "        },\n",
    "        \"correct\": \"correct answer\",\n",
    "    },\n",
    "    \"3\": {\n",
    "        \"mcq\": \"multiple choice question\",\n",
    "        \"options\": {\n",
    "            \"a\": \"choice here\",\n",
    "            \"b\": \"choice here\",\n",
    "            \"c\": \"choice here\",\n",
    "            \"d\": \"choice here\",\n",
    "        },\n",
    "        \"correct\": \"correct answer\",\n",
    "    },\n",
    "}"
   ]
  },
  {
   "cell_type": "code",
   "execution_count": 43,
   "id": "fd1aee1f",
   "metadata": {},
   "outputs": [],
   "source": [
    "quiz_generation_prompt = ChatPromptTemplate.from_messages([\n",
    "   HumanMessagePromptTemplate.from_template(TEMPLATE)\n",
    "    ])"
   ]
  },
  {
   "cell_type": "code",
   "execution_count": 44,
   "id": "95504542",
   "metadata": {},
   "outputs": [
    {
     "name": "stdout",
     "output_type": "stream",
     "text": [
      "input_variables=['number', 'response_json', 'subject', 'text', 'tone'] input_types={} partial_variables={} messages=[HumanMessagePromptTemplate(prompt=PromptTemplate(input_variables=['number', 'response_json', 'subject', 'text', 'tone'], input_types={}, partial_variables={}, template='\\nText:{text}\\nYou are an expert MCQ maker. Given the above text, it is your job to create a quiz  of {number} multiple choice questions for {subject} students in {tone} tone. \\nMake sure the questions are not repeated and check all the questions to be conforming the text as well.\\nMake sure to format your response like  RESPONSE_JSON below  and use it as a guide and Return ONLY a valid JSON object in the following format. Do NOT include any explanations or other text. Just the JSON. Ensure to make {number} MCQs\\n### RESPONSE_JSON\\n{response_json}\\n\\n'), additional_kwargs={})]\n"
     ]
    }
   ],
   "source": [
    "print(quiz_generation_prompt)"
   ]
  },
  {
   "cell_type": "code",
   "execution_count": 63,
   "id": "8aefc129",
   "metadata": {},
   "outputs": [],
   "source": [
    "quiz_chain = quiz_generation_prompt | llm"
   ]
  },
  {
   "cell_type": "code",
   "execution_count": 64,
   "id": "23945043",
   "metadata": {},
   "outputs": [
    {
     "data": {
      "text/plain": [
       "ChatPromptTemplate(input_variables=['number', 'response_json', 'subject', 'text', 'tone'], input_types={}, partial_variables={}, messages=[HumanMessagePromptTemplate(prompt=PromptTemplate(input_variables=['number', 'response_json', 'subject', 'text', 'tone'], input_types={}, partial_variables={}, template='\\nText:{text}\\nYou are an expert MCQ maker. Given the above text, it is your job to create a quiz  of {number} multiple choice questions for {subject} students in {tone} tone. \\nMake sure the questions are not repeated and check all the questions to be conforming the text as well.\\nMake sure to format your response like  RESPONSE_JSON below  and use it as a guide and Return ONLY a valid JSON object in the following format. Do NOT include any explanations or other text. Just the JSON. Ensure to make {number} MCQs\\n### RESPONSE_JSON\\n{response_json}\\n\\n'), additional_kwargs={})])\n",
       "| ChatOllama(model='llama3.1:8b')"
      ]
     },
     "execution_count": 64,
     "metadata": {},
     "output_type": "execute_result"
    }
   ],
   "source": [
    "quiz_chain"
   ]
  },
  {
   "cell_type": "code",
   "execution_count": 65,
   "id": "14ae9690",
   "metadata": {},
   "outputs": [],
   "source": [
    "file_path =r\"E:\\mcqgen\\data.txt\""
   ]
  },
  {
   "cell_type": "code",
   "execution_count": 66,
   "id": "ec0482a4",
   "metadata": {},
   "outputs": [],
   "source": [
    "with open(file_path,'r') as file:\n",
    "    TEXT=file.read()"
   ]
  },
  {
   "cell_type": "code",
   "execution_count": 49,
   "id": "4074b8b4",
   "metadata": {},
   "outputs": [
    {
     "data": {
      "text/plain": [
       "'A black hole is a massive, compact astronomical object so dense that its gravity prevents anything from escaping, even light. Albert Einstein\\'s theory of general relativity predicts that a sufficiently compact mass will form a black hole.[4] The boundary of no escape is called the event horizon. A black hole has a great effect on the fate and circumstances of an object crossing it, but has no locally detectable features according to general relativity.[5] In many ways, a black hole acts like an ideal black body, as it reflects no light.[6][7] Quantum field theory in curved spacetime predicts that event horizons emit Hawking radiation, with the same spectrum as a black body of a temperature inversely proportional to its mass. This temperature is of the order of billionths of a kelvin for stellar black holes, making it essentially impossible to observe directly.\\n\\nObjects whose gravitational fields are too strong for light to escape were first considered in the 18th century by John Michell and Pierre-Simon Laplace. In 1916, Karl Schwarzschild found the first modern solution of general relativity that would characterise a black hole. Due to his influential research, the Schwarzschild metric is named after him. David Finkelstein, in 1958, first published the interpretation of \"black hole\" as a region of space from which nothing can escape. Black holes were long considered a mathematical curiosity; it was not until the 1960s that theoretical work showed they were a generic prediction of general relativity. The first black hole known was Cygnus X-1, identified by several researchers independently in 1971.[8][9]\\n\\nBlack holes typically form when massive stars collapse at the end of their life cycle. After a black hole has formed, it can grow by absorbing mass from its surroundings. Supermassive black holes of millions of solar masses may form by absorbing other stars and merging with other black holes, or via direct collapse of gas clouds. There is consensus that supermassive black holes exist in the centres of most galaxies.\\n\\nThe presence of a black hole can be inferred through its interaction with other matter and with electromagnetic radiation such as visible light. Matter falling toward a black hole can form an accretion disk of infalling plasma, heated by friction and emitting light. In extreme cases, this creates a quasar, some of the brightest objects in the universe. Stars passing too close to a supermassive black hole can be shredded into streamers that shine very brightly before being \"swallowed.\"[10] If other stars are orbiting a black hole, their orbits can be used to determine the black hole\\'s mass and location. Such observations can be used to exclude possible alternatives such as neutron stars. In this way, astronomers have identified numerous stellar black hole candidates in binary systems and established that the radio source known as Sagittarius A*, at the core of the Milky Way galaxy, contains a supermassive black hole of about 4.3 million solar masses.'"
      ]
     },
     "execution_count": 49,
     "metadata": {},
     "output_type": "execute_result"
    }
   ],
   "source": [
    "TEXT"
   ]
  },
  {
   "cell_type": "code",
   "execution_count": 67,
   "id": "3569b924",
   "metadata": {},
   "outputs": [
    {
     "data": {
      "text/plain": [
       "'{\"1\": {\"mcq\": \"multiple choice question\", \"options\": {\"a\": \"choice here\", \"b\": \"choice here\", \"c\": \"choice here\", \"d\": \"choice here\"}, \"correct\": \"correct answer\"}, \"2\": {\"mcq\": \"multiple choice question\", \"options\": {\"a\": \"choice here\", \"b\": \"choice here\", \"c\": \"choice here\", \"d\": \"choice here\"}, \"correct\": \"correct answer\"}, \"3\": {\"mcq\": \"multiple choice question\", \"options\": {\"a\": \"choice here\", \"b\": \"choice here\", \"c\": \"choice here\", \"d\": \"choice here\"}, \"correct\": \"correct answer\"}}'"
      ]
     },
     "execution_count": 67,
     "metadata": {},
     "output_type": "execute_result"
    }
   ],
   "source": [
    "json.dumps(RESPONSE_JSON)"
   ]
  },
  {
   "cell_type": "code",
   "execution_count": 68,
   "id": "ef3c0008",
   "metadata": {},
   "outputs": [],
   "source": [
    "NUMBER=5 \n",
    "SUBJECT=\"Space-Science\"\n",
    "TONE=\"simple\""
   ]
  },
  {
   "cell_type": "code",
   "execution_count": 69,
   "id": "4630cb86",
   "metadata": {},
   "outputs": [],
   "source": [
    "quiz=quiz_chain.invoke({\"number\": NUMBER, \"subject\": SUBJECT, \"tone\": TONE, \"text\": TEXT, \"response_json\": json.dumps(RESPONSE_JSON)})"
   ]
  },
  {
   "cell_type": "code",
   "execution_count": 70,
   "id": "1d203bfb",
   "metadata": {},
   "outputs": [
    {
     "name": "stdout",
     "output_type": "stream",
     "text": [
      "{\n",
      "\"1\": {\n",
      "\"mcq\": \"What is a black hole according to Albert Einstein's theory of general relativity?\",\n",
      "\"options\": {\"a\": \"A massive, compact astronomical object so dense that its gravity prevents anything from escaping\", \n",
      "           \"b\": \"A region of space with extremely strong gravitational pull\",\n",
      "           \"c\": \"A celestial body formed by the collapse of a star\", \n",
      "           \"d\": \"An empty space in the universe\"},\n",
      "\"correct\": \"a\"\n",
      "},\n",
      "\"2\": {\n",
      "\"mcq\": \"What is the boundary of no escape called around a black hole?\",\n",
      "\"options\": {\"a\": \"The event horizon\", \n",
      "            \"b\": \"The point of no return\",\n",
      "            \"c\": \"The boundary of escape\",\n",
      "            \"d\": \"The gravitational limit\"},\n",
      "\"correct\": \"a\"\n",
      "},\n",
      "\"3\": {\n",
      "\"mcq\": \"What is predicted by quantum field theory in curved spacetime around a black hole?\",\n",
      "\"options\": {\"a\": \"Hawking radiation with the same spectrum as a black body\", \n",
      "           \"b\": \"No emission of radiation\",\n",
      "           \"c\": \"Gravitational waves only\",\n",
      "           \"d\": \"Cosmic microwave background radiation\"},\n",
      "\"correct\": \"a\"\n",
      "},\n",
      "\"4\": {\n",
      "\"mcq\": \"How can astronomers infer the presence of a black hole?\",\n",
      "\"options\": {\"a\": By observing its interaction with other matter and electromagnetic radiation\", \n",
      "            \"b\": By detecting gravitational waves only\",\n",
      "            \"c\": By observing the brightness of nearby stars\",\n",
      "            \"d\": By studying the cosmic microwave background radiation\"},\n",
      "\"correct\": \"a\"\n",
      "},\n",
      "\"5\": {\n",
      "\"mcq\": \"What is a supermassive black hole typically found in?\",\n",
      "\"options\": {\"a\": At the centre of most galaxies\", \n",
      "           \"b\": In binary systems only\",\n",
      "           \"c\": In star clusters\",\n",
      "           \"d\": On the surface of neutron stars\"},\n",
      "\"correct\": \"a\"\n",
      "}\n",
      "}\n"
     ]
    }
   ],
   "source": [
    "print(quiz.content)"
   ]
  },
  {
   "cell_type": "code",
   "execution_count": null,
   "id": "012fdd63",
   "metadata": {},
   "outputs": [
    {
     "ename": "IndexError",
     "evalue": "list index out of range",
     "output_type": "error",
     "traceback": [
      "\u001b[31m---------------------------------------------------------------------------\u001b[39m",
      "\u001b[31mIndexError\u001b[39m                                Traceback (most recent call last)",
      "\u001b[36mCell\u001b[39m\u001b[36m \u001b[39m\u001b[32mIn[71]\u001b[39m\u001b[32m, line 1\u001b[39m\n\u001b[32m----> \u001b[39m\u001b[32m1\u001b[39m output_text = \u001b[43mquiz\u001b[49m\u001b[43m.\u001b[49m\u001b[43mcontent\u001b[49m\u001b[43m.\u001b[49m\u001b[43msplit\u001b[49m\u001b[43m(\u001b[49m\u001b[33;43m\"\u001b[39;49m\u001b[33;43m'\u001b[39;49m\u001b[33;43m'\u001b[39;49m\u001b[33;43m'\u001b[39;49m\u001b[33;43m\"\u001b[39;49m\u001b[43m)\u001b[49m\u001b[43m[\u001b[49m\u001b[32;43m1\u001b[39;49m\u001b[43m]\u001b[49m.strip()\n",
      "\u001b[31mIndexError\u001b[39m: list index out of range"
     ]
    }
   ],
   "source": [
    "output_text = quiz.content"
   ]
  },
  {
   "cell_type": "code",
   "execution_count": 55,
   "id": "c13cc1e7",
   "metadata": {},
   "outputs": [],
   "source": [
    "quiz_dict = json.loads(output_text)"
   ]
  },
  {
   "cell_type": "code",
   "execution_count": 56,
   "id": "a11d4235",
   "metadata": {},
   "outputs": [
    {
     "data": {
      "text/plain": [
       "{'1': {'mcq': 'What is a black hole according to general relativity?',\n",
       "  'options': {'a': 'A massive object with strong gravitational pull but not dense enough to prevent light from escaping',\n",
       "   'b': 'A compact astronomical object so dense that its gravity prevents anything from escaping, even light',\n",
       "   'c': 'An object in space that has a strong magnetic field',\n",
       "   'd': 'A star that is about to explode'},\n",
       "  'correct': 'b'},\n",
       " '2': {'mcq': 'What is the boundary of no escape called around a black hole?',\n",
       "  'options': {'a': 'Event horizon',\n",
       "   'b': 'Gravitational field',\n",
       "   'c': 'Black body',\n",
       "   'd': 'Astronomical object'},\n",
       "  'correct': 'a'},\n",
       " '3': {'mcq': 'How do black holes typically form?',\n",
       "  'options': {'a': 'Through the collision of two stars',\n",
       "   'b': 'When a star is born in space',\n",
       "   'c': \"At the end of a massive star's life cycle when it collapses\",\n",
       "   'd': 'In a supernova explosion'},\n",
       "  'correct': 'c'},\n",
       " '4': {'mcq': 'What type of radiation do black holes emit according to quantum field theory?',\n",
       "  'options': {'a': 'Gravitational waves',\n",
       "   'b': 'Hawking radiation',\n",
       "   'c': 'Electromagnetic radiation',\n",
       "   'd': 'Neutrino radiation'},\n",
       "  'correct': 'b'},\n",
       " '5': {'mcq': \"What can astronomers use to determine a black hole's mass and location?\",\n",
       "  'options': {'a': 'Orbits of stars around the black hole',\n",
       "   'b': 'Light emitted by the black hole itself',\n",
       "   'c': 'Gravitational waves detected from a supernova',\n",
       "   'd': 'Radio signals received from space'},\n",
       "  'correct': 'a'}}"
      ]
     },
     "execution_count": 56,
     "metadata": {},
     "output_type": "execute_result"
    }
   ],
   "source": [
    "quiz_dict"
   ]
  },
  {
   "cell_type": "code",
   "execution_count": 57,
   "id": "67d9fee9",
   "metadata": {},
   "outputs": [],
   "source": [
    "quiz_table_data=[]\n",
    "for key,value in quiz_dict.items():\n",
    "    mcq=value['mcq']\n",
    "    options= \",\".join(\n",
    "        [f\"{option} : {option_value}\"\n",
    "         for option, option_value in value['options'].items()\n",
    "         ]\n",
    "    )\n",
    "    correct=value['correct']\n",
    "    quiz_table_data.append({\n",
    "        \"MCQ\": mcq,\n",
    "        \"Options\": options,\n",
    "        \"Correct\": correct\n",
    "    })"
   ]
  },
  {
   "cell_type": "code",
   "execution_count": 58,
   "id": "1f88119a",
   "metadata": {},
   "outputs": [
    {
     "data": {
      "text/plain": [
       "[{'MCQ': 'What is a black hole according to general relativity?',\n",
       "  'Options': 'a : A massive object with strong gravitational pull but not dense enough to prevent light from escaping,b : A compact astronomical object so dense that its gravity prevents anything from escaping, even light,c : An object in space that has a strong magnetic field,d : A star that is about to explode',\n",
       "  'Correct': 'b'},\n",
       " {'MCQ': 'What is the boundary of no escape called around a black hole?',\n",
       "  'Options': 'a : Event horizon,b : Gravitational field,c : Black body,d : Astronomical object',\n",
       "  'Correct': 'a'},\n",
       " {'MCQ': 'How do black holes typically form?',\n",
       "  'Options': \"a : Through the collision of two stars,b : When a star is born in space,c : At the end of a massive star's life cycle when it collapses,d : In a supernova explosion\",\n",
       "  'Correct': 'c'},\n",
       " {'MCQ': 'What type of radiation do black holes emit according to quantum field theory?',\n",
       "  'Options': 'a : Gravitational waves,b : Hawking radiation,c : Electromagnetic radiation,d : Neutrino radiation',\n",
       "  'Correct': 'b'},\n",
       " {'MCQ': \"What can astronomers use to determine a black hole's mass and location?\",\n",
       "  'Options': 'a : Orbits of stars around the black hole,b : Light emitted by the black hole itself,c : Gravitational waves detected from a supernova,d : Radio signals received from space',\n",
       "  'Correct': 'a'}]"
      ]
     },
     "execution_count": 58,
     "metadata": {},
     "output_type": "execute_result"
    }
   ],
   "source": [
    "quiz_table_data"
   ]
  },
  {
   "cell_type": "code",
   "execution_count": 59,
   "id": "5076358c",
   "metadata": {},
   "outputs": [],
   "source": [
    "df=pd.DataFrame(quiz_table_data)"
   ]
  },
  {
   "cell_type": "code",
   "execution_count": 60,
   "id": "63f0d7c3",
   "metadata": {},
   "outputs": [
    {
     "data": {
      "text/html": [
       "<div>\n",
       "<style scoped>\n",
       "    .dataframe tbody tr th:only-of-type {\n",
       "        vertical-align: middle;\n",
       "    }\n",
       "\n",
       "    .dataframe tbody tr th {\n",
       "        vertical-align: top;\n",
       "    }\n",
       "\n",
       "    .dataframe thead th {\n",
       "        text-align: right;\n",
       "    }\n",
       "</style>\n",
       "<table border=\"1\" class=\"dataframe\">\n",
       "  <thead>\n",
       "    <tr style=\"text-align: right;\">\n",
       "      <th></th>\n",
       "      <th>MCQ</th>\n",
       "      <th>Options</th>\n",
       "      <th>Correct</th>\n",
       "    </tr>\n",
       "  </thead>\n",
       "  <tbody>\n",
       "    <tr>\n",
       "      <th>0</th>\n",
       "      <td>What is a black hole according to general rela...</td>\n",
       "      <td>a : A massive object with strong gravitational...</td>\n",
       "      <td>b</td>\n",
       "    </tr>\n",
       "    <tr>\n",
       "      <th>1</th>\n",
       "      <td>What is the boundary of no escape called aroun...</td>\n",
       "      <td>a : Event horizon,b : Gravitational field,c : ...</td>\n",
       "      <td>a</td>\n",
       "    </tr>\n",
       "    <tr>\n",
       "      <th>2</th>\n",
       "      <td>How do black holes typically form?</td>\n",
       "      <td>a : Through the collision of two stars,b : Whe...</td>\n",
       "      <td>c</td>\n",
       "    </tr>\n",
       "    <tr>\n",
       "      <th>3</th>\n",
       "      <td>What type of radiation do black holes emit acc...</td>\n",
       "      <td>a : Gravitational waves,b : Hawking radiation,...</td>\n",
       "      <td>b</td>\n",
       "    </tr>\n",
       "    <tr>\n",
       "      <th>4</th>\n",
       "      <td>What can astronomers use to determine a black ...</td>\n",
       "      <td>a : Orbits of stars around the black hole,b : ...</td>\n",
       "      <td>a</td>\n",
       "    </tr>\n",
       "  </tbody>\n",
       "</table>\n",
       "</div>"
      ],
      "text/plain": [
       "                                                 MCQ  \\\n",
       "0  What is a black hole according to general rela...   \n",
       "1  What is the boundary of no escape called aroun...   \n",
       "2                 How do black holes typically form?   \n",
       "3  What type of radiation do black holes emit acc...   \n",
       "4  What can astronomers use to determine a black ...   \n",
       "\n",
       "                                             Options Correct  \n",
       "0  a : A massive object with strong gravitational...       b  \n",
       "1  a : Event horizon,b : Gravitational field,c : ...       a  \n",
       "2  a : Through the collision of two stars,b : Whe...       c  \n",
       "3  a : Gravitational waves,b : Hawking radiation,...       b  \n",
       "4  a : Orbits of stars around the black hole,b : ...       a  "
      ]
     },
     "execution_count": 60,
     "metadata": {},
     "output_type": "execute_result"
    }
   ],
   "source": [
    "df"
   ]
  },
  {
   "cell_type": "code",
   "execution_count": 61,
   "id": "6a0c474b",
   "metadata": {},
   "outputs": [],
   "source": [
    "df.to_csv(\"quiz.csv\", index=False)"
   ]
  },
  {
   "cell_type": "code",
   "execution_count": null,
   "id": "bcac75eb",
   "metadata": {},
   "outputs": [],
   "source": []
  }
 ],
 "metadata": {
  "kernelspec": {
   "display_name": "venv",
   "language": "python",
   "name": "python3"
  },
  "language_info": {
   "codemirror_mode": {
    "name": "ipython",
    "version": 3
   },
   "file_extension": ".py",
   "mimetype": "text/x-python",
   "name": "python",
   "nbconvert_exporter": "python",
   "pygments_lexer": "ipython3",
   "version": "3.13.1"
  }
 },
 "nbformat": 4,
 "nbformat_minor": 5
}
