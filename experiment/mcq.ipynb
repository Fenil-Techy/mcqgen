{
 "cells": [
  {
   "cell_type": "code",
   "execution_count": 1,
   "id": "498302fc",
   "metadata": {},
   "outputs": [],
   "source": [
    "import os\n",
    "import json\n",
    "import pandas as pd\n",
    "import traceback"
   ]
  },
  {
   "cell_type": "code",
   "execution_count": 2,
   "id": "ac59dec1",
   "metadata": {},
   "outputs": [],
   "source": [
    "from langchain_ollama import ChatOllama"
   ]
  },
  {
   "cell_type": "code",
   "execution_count": 3,
   "id": "f46e8413",
   "metadata": {},
   "outputs": [],
   "source": [
    "from langchain.prompts import ChatPromptTemplate, HumanMessagePromptTemplate\n",
    "import PyPDF2"
   ]
  },
  {
   "cell_type": "code",
   "execution_count": 4,
   "id": "dfbe3cd0",
   "metadata": {},
   "outputs": [],
   "source": [
    "llm = ChatOllama(model=\"mistral\")"
   ]
  },
  {
   "cell_type": "code",
   "execution_count": 5,
   "id": "f087bc6b",
   "metadata": {},
   "outputs": [],
   "source": [
    "TEMPLATE=\"\"\"\n",
    "Text:{text}\n",
    "You are an expert MCQ maker. Given the above text, it is your job to \\\n",
    "create a quiz  of {number} multiple choice questions for {subject} students in {tone} tone. \n",
    "Make sure the questions are not repeated and check all the questions to be conforming the text as well.\n",
    "Make sure to format your response like  RESPONSE_JSON below  and use it as a guide. \\\n",
    "Ensure to make {number} MCQs\n",
    "### RESPONSE_JSON\n",
    "{response_json}\n",
    "\n",
    "\"\"\""
   ]
  },
  {
   "cell_type": "code",
   "execution_count": 6,
   "id": "fe9c8c5f",
   "metadata": {},
   "outputs": [],
   "source": [
    "RESPONSE_JSON = {\n",
    "    \"1\": {\n",
    "        \"mcq\": \"multiple choice question\",\n",
    "        \"options\": {\n",
    "            \"a\": \"choice here\",\n",
    "            \"b\": \"choice here\",\n",
    "            \"c\": \"choice here\",\n",
    "            \"d\": \"choice here\",\n",
    "        },\n",
    "        \"correct\": \"correct answer\",\n",
    "    },\n",
    "    \"2\": {\n",
    "        \"mcq\": \"multiple choice question\",\n",
    "        \"options\": {\n",
    "            \"a\": \"choice here\",\n",
    "            \"b\": \"choice here\",\n",
    "            \"c\": \"choice here\",\n",
    "            \"d\": \"choice here\",\n",
    "        },\n",
    "        \"correct\": \"correct answer\",\n",
    "    },\n",
    "    \"3\": {\n",
    "        \"mcq\": \"multiple choice question\",\n",
    "        \"options\": {\n",
    "            \"a\": \"choice here\",\n",
    "            \"b\": \"choice here\",\n",
    "            \"c\": \"choice here\",\n",
    "            \"d\": \"choice here\",\n",
    "        },\n",
    "        \"correct\": \"correct answer\",\n",
    "    },\n",
    "}"
   ]
  },
  {
   "cell_type": "code",
   "execution_count": 7,
   "id": "fd1aee1f",
   "metadata": {},
   "outputs": [],
   "source": [
    "quiz_generation_prompt = ChatPromptTemplate.from_messages([\n",
    "   HumanMessagePromptTemplate.from_template(TEMPLATE)\n",
    "    ])"
   ]
  },
  {
   "cell_type": "code",
   "execution_count": 8,
   "id": "95504542",
   "metadata": {},
   "outputs": [
    {
     "name": "stdout",
     "output_type": "stream",
     "text": [
      "input_variables=['number', 'response_json', 'subject', 'text', 'tone'] input_types={} partial_variables={} messages=[HumanMessagePromptTemplate(prompt=PromptTemplate(input_variables=['number', 'response_json', 'subject', 'text', 'tone'], input_types={}, partial_variables={}, template='\\nText:{text}\\nYou are an expert MCQ maker. Given the above text, it is your job to create a quiz  of {number} multiple choice questions for {subject} students in {tone} tone. \\nMake sure the questions are not repeated and check all the questions to be conforming the text as well.\\nMake sure to format your response like  RESPONSE_JSON below  and use it as a guide. Ensure to make {number} MCQs\\n### RESPONSE_JSON\\n{response_json}\\n\\n'), additional_kwargs={})]\n"
     ]
    }
   ],
   "source": [
    "print(quiz_generation_prompt)"
   ]
  },
  {
   "cell_type": "code",
   "execution_count": 9,
   "id": "8aefc129",
   "metadata": {},
   "outputs": [],
   "source": [
    "quiz_chain = quiz_generation_prompt | llm"
   ]
  },
  {
   "cell_type": "code",
   "execution_count": 10,
   "id": "23945043",
   "metadata": {},
   "outputs": [
    {
     "data": {
      "text/plain": [
       "ChatPromptTemplate(input_variables=['number', 'response_json', 'subject', 'text', 'tone'], input_types={}, partial_variables={}, messages=[HumanMessagePromptTemplate(prompt=PromptTemplate(input_variables=['number', 'response_json', 'subject', 'text', 'tone'], input_types={}, partial_variables={}, template='\\nText:{text}\\nYou are an expert MCQ maker. Given the above text, it is your job to create a quiz  of {number} multiple choice questions for {subject} students in {tone} tone. \\nMake sure the questions are not repeated and check all the questions to be conforming the text as well.\\nMake sure to format your response like  RESPONSE_JSON below  and use it as a guide. Ensure to make {number} MCQs\\n### RESPONSE_JSON\\n{response_json}\\n\\n'), additional_kwargs={})])\n",
       "| ChatOllama(model='mistral')"
      ]
     },
     "execution_count": 10,
     "metadata": {},
     "output_type": "execute_result"
    }
   ],
   "source": [
    "quiz_chain"
   ]
  },
  {
   "cell_type": "code",
   "execution_count": 11,
   "id": "d789c27a",
   "metadata": {},
   "outputs": [],
   "source": [
    "TEMPLATE2=\"\"\"\n",
    "You are an expert english grammarian and writer. Given a Multiple Choice Quiz for {subject} students.\\\n",
    "You need to evaluate the complexity of the question and give a complete analysis of the quiz. Only use at max 50 words for complexity analysis. \n",
    "if the quiz is not at per with the cognitive and analytical abilities of the students,\\\n",
    "update the quiz questions which needs to be changed and change the tone such that it perfectly fits the student abilities\n",
    "Quiz_MCQs:\n",
    "{quiz}\n",
    "\n",
    "Check from an expert English Writer of the above quiz:\n",
    "\"\"\""
   ]
  },
  {
   "cell_type": "code",
   "execution_count": 12,
   "id": "bc2c7ca6",
   "metadata": {},
   "outputs": [],
   "source": [
    "quiz_evaluation_prompt= ChatPromptTemplate.from_messages([\n",
    "    HumanMessagePromptTemplate.from_template(TEMPLATE2)\n",
    "])"
   ]
  },
  {
   "cell_type": "code",
   "execution_count": 13,
   "id": "da0888dd",
   "metadata": {},
   "outputs": [],
   "source": [
    "review_chain = quiz_evaluation_prompt | llm"
   ]
  },
  {
   "cell_type": "code",
   "execution_count": 16,
   "id": "14ae9690",
   "metadata": {},
   "outputs": [],
   "source": [
    "file_path =r\"E:\\mcqgen\\data.txt\""
   ]
  },
  {
   "cell_type": "code",
   "execution_count": 17,
   "id": "ec0482a4",
   "metadata": {},
   "outputs": [],
   "source": [
    "with open(file_path,'r') as file:\n",
    "    TEXT=file.read()"
   ]
  },
  {
   "cell_type": "code",
   "execution_count": 18,
   "id": "4074b8b4",
   "metadata": {},
   "outputs": [
    {
     "data": {
      "text/plain": [
       "'A black hole is a massive, compact astronomical object so dense that its gravity prevents anything from escaping, even light. Albert Einstein\\'s theory of general relativity predicts that a sufficiently compact mass will form a black hole.[4] The boundary of no escape is called the event horizon. A black hole has a great effect on the fate and circumstances of an object crossing it, but has no locally detectable features according to general relativity.[5] In many ways, a black hole acts like an ideal black body, as it reflects no light.[6][7] Quantum field theory in curved spacetime predicts that event horizons emit Hawking radiation, with the same spectrum as a black body of a temperature inversely proportional to its mass. This temperature is of the order of billionths of a kelvin for stellar black holes, making it essentially impossible to observe directly.\\n\\nObjects whose gravitational fields are too strong for light to escape were first considered in the 18th century by John Michell and Pierre-Simon Laplace. In 1916, Karl Schwarzschild found the first modern solution of general relativity that would characterise a black hole. Due to his influential research, the Schwarzschild metric is named after him. David Finkelstein, in 1958, first published the interpretation of \"black hole\" as a region of space from which nothing can escape. Black holes were long considered a mathematical curiosity; it was not until the 1960s that theoretical work showed they were a generic prediction of general relativity. The first black hole known was Cygnus X-1, identified by several researchers independently in 1971.[8][9]\\n\\nBlack holes typically form when massive stars collapse at the end of their life cycle. After a black hole has formed, it can grow by absorbing mass from its surroundings. Supermassive black holes of millions of solar masses may form by absorbing other stars and merging with other black holes, or via direct collapse of gas clouds. There is consensus that supermassive black holes exist in the centres of most galaxies.\\n\\nThe presence of a black hole can be inferred through its interaction with other matter and with electromagnetic radiation such as visible light. Matter falling toward a black hole can form an accretion disk of infalling plasma, heated by friction and emitting light. In extreme cases, this creates a quasar, some of the brightest objects in the universe. Stars passing too close to a supermassive black hole can be shredded into streamers that shine very brightly before being \"swallowed.\"[10] If other stars are orbiting a black hole, their orbits can be used to determine the black hole\\'s mass and location. Such observations can be used to exclude possible alternatives such as neutron stars. In this way, astronomers have identified numerous stellar black hole candidates in binary systems and established that the radio source known as Sagittarius A*, at the core of the Milky Way galaxy, contains a supermassive black hole of about 4.3 million solar masses.'"
      ]
     },
     "execution_count": 18,
     "metadata": {},
     "output_type": "execute_result"
    }
   ],
   "source": [
    "TEXT"
   ]
  },
  {
   "cell_type": "code",
   "execution_count": 19,
   "id": "3569b924",
   "metadata": {},
   "outputs": [
    {
     "data": {
      "text/plain": [
       "'{\"1\": {\"mcq\": \"multiple choice question\", \"options\": {\"a\": \"choice here\", \"b\": \"choice here\", \"c\": \"choice here\", \"d\": \"choice here\"}, \"correct\": \"correct answer\"}, \"2\": {\"mcq\": \"multiple choice question\", \"options\": {\"a\": \"choice here\", \"b\": \"choice here\", \"c\": \"choice here\", \"d\": \"choice here\"}, \"correct\": \"correct answer\"}, \"3\": {\"mcq\": \"multiple choice question\", \"options\": {\"a\": \"choice here\", \"b\": \"choice here\", \"c\": \"choice here\", \"d\": \"choice here\"}, \"correct\": \"correct answer\"}}'"
      ]
     },
     "execution_count": 19,
     "metadata": {},
     "output_type": "execute_result"
    }
   ],
   "source": [
    "json.dumps(RESPONSE_JSON)"
   ]
  },
  {
   "cell_type": "code",
   "execution_count": 20,
   "id": "ef3c0008",
   "metadata": {},
   "outputs": [],
   "source": [
    "NUMBER=5 \n",
    "SUBJECT=\"Space-Science\"\n",
    "TONE=\"simple\""
   ]
  },
  {
   "cell_type": "code",
   "execution_count": 23,
   "id": "4630cb86",
   "metadata": {},
   "outputs": [],
   "source": [
    "quiz=quiz_chain.invoke({\"number\": NUMBER, \"subject\": SUBJECT, \"tone\": TONE, \"text\": TEXT, \"response_json\": json.dumps(RESPONSE_JSON)})"
   ]
  },
  {
   "cell_type": "code",
   "execution_count": 24,
   "id": "c4f656ac",
   "metadata": {},
   "outputs": [],
   "source": [
    "review=review_chain.invoke({\"quiz\": quiz.content, \"subject\": SUBJECT})"
   ]
  },
  {
   "cell_type": "code",
   "execution_count": 27,
   "id": "1d203bfb",
   "metadata": {},
   "outputs": [
    {
     "name": "stdout",
     "output_type": "stream",
     "text": [
      " The quiz is appropriate for intermediate to advanced level Space-Science students. However, it might be challenging for beginners due to the technical vocabulary used in some questions. For example, question 4 could be rephrased as \"Can a black hole be detected locally according to general relativity?\"\n",
      "\n",
      "Here's an updated version of the quiz with simplified language:\n",
      "\n",
      "```\n",
      "{\n",
      "  \"1\": {\n",
      "    \"mcq\": \"What is a black hole?\",\n",
      "    \"options\": {\n",
      "      \"a\": \"A place where gravity is so strong that nothing, not even light, can get out.\",\n",
      "      \"b\": \"An area from which nothing can escape.\",\n",
      "      \"c\": \"A theoretical concept in astronomy.\",\n",
      "      \"d\": \"An object that reflects all light.\"\n",
      "    },\n",
      "    \"correct\": \"a\"\n",
      "  },\n",
      "  \"2\": {\n",
      "    \"mcq\": \"Who first found a solution to Einstein's theory of general relativity that describes black holes?\",\n",
      "    \"options\": {\n",
      "      \"a\": \"John Michell\",\n",
      "      \"b\": \"Pierre-Simon Laplace\",\n",
      "      \"c\": \"Karl Schwarzschild\",\n",
      "      \"d\": \"David Finkelstein\"\n",
      "    },\n",
      "    \"correct\": \"c\"\n",
      "  },\n",
      "  \"3\": {\n",
      "    \"mcq\": \"What is the name for the boundary where nothing can escape from a black hole?\",\n",
      "    \"options\": {\n",
      "      \"a\": \"Event horizon\",\n",
      "      \"b\": \"Accretion disk\",\n",
      "      \"c\": \"Hawking radiation\",\n",
      "      \"d\": \"Quasar\"\n",
      "    },\n",
      "    \"correct\": \"a\"\n",
      "  },\n",
      "  \"4\": {\n",
      "    \"mcq\": \"Can a black hole be seen locally according to general relativity?\",\n",
      "    \"options\": {\n",
      "      \"a\": \"Yes, it can be seen.\",\n",
      "      \"b\": \"No, it cannot be seen.\",\n",
      "      \"c\": \"It may emit radiation.\",\n",
      "      \"d\": \"It is hard to observe directly.\"\n",
      "    },\n",
      "    \"correct\": \"b\"\n",
      "  },\n",
      "  \"5\": {\n",
      "    \"mcq\": \"Where are supermassive black holes thought to exist?\",\n",
      "    \"options\": {\n",
      "      \"a\": \"In the centers of galaxies.\",\n",
      "      \"b\": \"At the edges of galaxies.\",\n",
      "      \"c\": \"In interstellar space.\",\n",
      "      \"d\": \"In our solar system.\"\n",
      "    },\n",
      "    \"correct\": \"a\"\n",
      "  }\n",
      "}\n",
      "```\n"
     ]
    }
   ],
   "source": [
    "print(review.content)"
   ]
  },
  {
   "cell_type": "code",
   "execution_count": 29,
   "id": "012fdd63",
   "metadata": {},
   "outputs": [],
   "source": [
    "output_text = review.content"
   ]
  },
  {
   "cell_type": "code",
   "execution_count": 30,
   "id": "c5190891",
   "metadata": {},
   "outputs": [],
   "source": [
    "quiz_json_str = output_text.split(\"```\")[1].strip()\n"
   ]
  },
  {
   "cell_type": "code",
   "execution_count": 31,
   "id": "c13cc1e7",
   "metadata": {},
   "outputs": [],
   "source": [
    "quiz_dict = json.loads(quiz_json_str)"
   ]
  },
  {
   "cell_type": "code",
   "execution_count": 32,
   "id": "a11d4235",
   "metadata": {},
   "outputs": [
    {
     "data": {
      "text/plain": [
       "{'1': {'mcq': 'What is a black hole?',\n",
       "  'options': {'a': 'A place where gravity is so strong that nothing, not even light, can get out.',\n",
       "   'b': 'An area from which nothing can escape.',\n",
       "   'c': 'A theoretical concept in astronomy.',\n",
       "   'd': 'An object that reflects all light.'},\n",
       "  'correct': 'a'},\n",
       " '2': {'mcq': \"Who first found a solution to Einstein's theory of general relativity that describes black holes?\",\n",
       "  'options': {'a': 'John Michell',\n",
       "   'b': 'Pierre-Simon Laplace',\n",
       "   'c': 'Karl Schwarzschild',\n",
       "   'd': 'David Finkelstein'},\n",
       "  'correct': 'c'},\n",
       " '3': {'mcq': 'What is the name for the boundary where nothing can escape from a black hole?',\n",
       "  'options': {'a': 'Event horizon',\n",
       "   'b': 'Accretion disk',\n",
       "   'c': 'Hawking radiation',\n",
       "   'd': 'Quasar'},\n",
       "  'correct': 'a'},\n",
       " '4': {'mcq': 'Can a black hole be seen locally according to general relativity?',\n",
       "  'options': {'a': 'Yes, it can be seen.',\n",
       "   'b': 'No, it cannot be seen.',\n",
       "   'c': 'It may emit radiation.',\n",
       "   'd': 'It is hard to observe directly.'},\n",
       "  'correct': 'b'},\n",
       " '5': {'mcq': 'Where are supermassive black holes thought to exist?',\n",
       "  'options': {'a': 'In the centers of galaxies.',\n",
       "   'b': 'At the edges of galaxies.',\n",
       "   'c': 'In interstellar space.',\n",
       "   'd': 'In our solar system.'},\n",
       "  'correct': 'a'}}"
      ]
     },
     "execution_count": 32,
     "metadata": {},
     "output_type": "execute_result"
    }
   ],
   "source": [
    "quiz_dict"
   ]
  },
  {
   "cell_type": "code",
   "execution_count": 35,
   "id": "67d9fee9",
   "metadata": {},
   "outputs": [],
   "source": [
    "quiz_table_data=[]\n",
    "for key,value in quiz_dict.items():\n",
    "    mcq=value['mcq']\n",
    "    options= \",\".join(\n",
    "        [f\"{option} : {option_value}\"\n",
    "         for option, option_value in value['options'].items()\n",
    "         ]\n",
    "    )\n",
    "    correct=value['correct']\n",
    "    quiz_table_data.append({\n",
    "        \"MCQ\": mcq,\n",
    "        \"Options\": options,\n",
    "        \"Correct\": correct\n",
    "    })"
   ]
  },
  {
   "cell_type": "code",
   "execution_count": 36,
   "id": "1f88119a",
   "metadata": {},
   "outputs": [
    {
     "data": {
      "text/plain": [
       "[{'MCQ': 'What is a black hole?',\n",
       "  'Options': 'a : A place where gravity is so strong that nothing, not even light, can get out.,b : An area from which nothing can escape.,c : A theoretical concept in astronomy.,d : An object that reflects all light.',\n",
       "  'Correct': 'a'},\n",
       " {'MCQ': \"Who first found a solution to Einstein's theory of general relativity that describes black holes?\",\n",
       "  'Options': 'a : John Michell,b : Pierre-Simon Laplace,c : Karl Schwarzschild,d : David Finkelstein',\n",
       "  'Correct': 'c'},\n",
       " {'MCQ': 'What is the name for the boundary where nothing can escape from a black hole?',\n",
       "  'Options': 'a : Event horizon,b : Accretion disk,c : Hawking radiation,d : Quasar',\n",
       "  'Correct': 'a'},\n",
       " {'MCQ': 'Can a black hole be seen locally according to general relativity?',\n",
       "  'Options': 'a : Yes, it can be seen.,b : No, it cannot be seen.,c : It may emit radiation.,d : It is hard to observe directly.',\n",
       "  'Correct': 'b'},\n",
       " {'MCQ': 'Where are supermassive black holes thought to exist?',\n",
       "  'Options': 'a : In the centers of galaxies.,b : At the edges of galaxies.,c : In interstellar space.,d : In our solar system.',\n",
       "  'Correct': 'a'}]"
      ]
     },
     "execution_count": 36,
     "metadata": {},
     "output_type": "execute_result"
    }
   ],
   "source": [
    "quiz_table_data"
   ]
  },
  {
   "cell_type": "code",
   "execution_count": 37,
   "id": "5076358c",
   "metadata": {},
   "outputs": [],
   "source": [
    "df=pd.DataFrame(quiz_table_data)"
   ]
  },
  {
   "cell_type": "code",
   "execution_count": 38,
   "id": "63f0d7c3",
   "metadata": {},
   "outputs": [
    {
     "data": {
      "text/html": [
       "<div>\n",
       "<style scoped>\n",
       "    .dataframe tbody tr th:only-of-type {\n",
       "        vertical-align: middle;\n",
       "    }\n",
       "\n",
       "    .dataframe tbody tr th {\n",
       "        vertical-align: top;\n",
       "    }\n",
       "\n",
       "    .dataframe thead th {\n",
       "        text-align: right;\n",
       "    }\n",
       "</style>\n",
       "<table border=\"1\" class=\"dataframe\">\n",
       "  <thead>\n",
       "    <tr style=\"text-align: right;\">\n",
       "      <th></th>\n",
       "      <th>MCQ</th>\n",
       "      <th>Options</th>\n",
       "      <th>Correct</th>\n",
       "    </tr>\n",
       "  </thead>\n",
       "  <tbody>\n",
       "    <tr>\n",
       "      <th>0</th>\n",
       "      <td>What is a black hole?</td>\n",
       "      <td>a : A place where gravity is so strong that no...</td>\n",
       "      <td>a</td>\n",
       "    </tr>\n",
       "    <tr>\n",
       "      <th>1</th>\n",
       "      <td>Who first found a solution to Einstein's theor...</td>\n",
       "      <td>a : John Michell,b : Pierre-Simon Laplace,c : ...</td>\n",
       "      <td>c</td>\n",
       "    </tr>\n",
       "    <tr>\n",
       "      <th>2</th>\n",
       "      <td>What is the name for the boundary where nothin...</td>\n",
       "      <td>a : Event horizon,b : Accretion disk,c : Hawki...</td>\n",
       "      <td>a</td>\n",
       "    </tr>\n",
       "    <tr>\n",
       "      <th>3</th>\n",
       "      <td>Can a black hole be seen locally according to ...</td>\n",
       "      <td>a : Yes, it can be seen.,b : No, it cannot be ...</td>\n",
       "      <td>b</td>\n",
       "    </tr>\n",
       "    <tr>\n",
       "      <th>4</th>\n",
       "      <td>Where are supermassive black holes thought to ...</td>\n",
       "      <td>a : In the centers of galaxies.,b : At the edg...</td>\n",
       "      <td>a</td>\n",
       "    </tr>\n",
       "  </tbody>\n",
       "</table>\n",
       "</div>"
      ],
      "text/plain": [
       "                                                 MCQ  \\\n",
       "0                              What is a black hole?   \n",
       "1  Who first found a solution to Einstein's theor...   \n",
       "2  What is the name for the boundary where nothin...   \n",
       "3  Can a black hole be seen locally according to ...   \n",
       "4  Where are supermassive black holes thought to ...   \n",
       "\n",
       "                                             Options Correct  \n",
       "0  a : A place where gravity is so strong that no...       a  \n",
       "1  a : John Michell,b : Pierre-Simon Laplace,c : ...       c  \n",
       "2  a : Event horizon,b : Accretion disk,c : Hawki...       a  \n",
       "3  a : Yes, it can be seen.,b : No, it cannot be ...       b  \n",
       "4  a : In the centers of galaxies.,b : At the edg...       a  "
      ]
     },
     "execution_count": 38,
     "metadata": {},
     "output_type": "execute_result"
    }
   ],
   "source": [
    "df"
   ]
  },
  {
   "cell_type": "code",
   "execution_count": 39,
   "id": "6a0c474b",
   "metadata": {},
   "outputs": [],
   "source": [
    "df.to_csv(\"quiz.csv\", index=False)"
   ]
  },
  {
   "cell_type": "code",
   "execution_count": null,
   "id": "bcac75eb",
   "metadata": {},
   "outputs": [],
   "source": []
  }
 ],
 "metadata": {
  "kernelspec": {
   "display_name": "venv",
   "language": "python",
   "name": "python3"
  },
  "language_info": {
   "codemirror_mode": {
    "name": "ipython",
    "version": 3
   },
   "file_extension": ".py",
   "mimetype": "text/x-python",
   "name": "python",
   "nbconvert_exporter": "python",
   "pygments_lexer": "ipython3",
   "version": "3.13.1"
  }
 },
 "nbformat": 4,
 "nbformat_minor": 5
}
